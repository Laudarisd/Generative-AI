{
 "cells": [
  {
   "cell_type": "code",
   "execution_count": 10,
   "metadata": {},
   "outputs": [
    {
     "name": "stdout",
     "output_type": "stream",
     "text": [
      "cpu\n"
     ]
    }
   ],
   "source": [
    "import torch\n",
    "import torch.nn as nn\n",
    "from torch.nn import functional as F\n",
    "device = 'cuda' if torch.cuda.is_available() else 'cpu'\n",
    "print(device)\n",
    "\n",
    "block_size = 8\n",
    "batch_size = 4\n",
    "max_iters = 10000\n",
    "learning_rate = 3e-4\n",
    "eval_iters = 250"
   ]
  },
  {
   "cell_type": "code",
   "execution_count": 11,
   "metadata": {},
   "outputs": [
    {
     "name": "stdout",
     "output_type": "stream",
     "text": [
      "232328\n",
      "['\\n', ' ', '!', '\"', '&', \"'\", '(', ')', '*', ',', '-', '.', '0', '1', '2', '3', '4', '5', '6', '7', '8', '9', ':', ';', '?', 'A', 'B', 'C', 'D', 'E', 'F', 'G', 'H', 'I', 'J', 'K', 'L', 'M', 'N', 'O', 'P', 'Q', 'R', 'S', 'T', 'U', 'V', 'W', 'X', 'Y', 'Z', '[', ']', '_', 'a', 'b', 'c', 'd', 'e', 'f', 'g', 'h', 'i', 'j', 'k', 'l', 'm', 'n', 'o', 'p', 'q', 'r', 's', 't', 'u', 'v', 'w', 'x', 'y', 'z', '\\ufeff']\n",
      "81\n"
     ]
    }
   ],
   "source": [
    "with open(\"wizard_of_oz.txt\", 'r', encoding='utf-8') as f:\n",
    "    text = f.read()\n",
    "print(len(text))\n",
    "#print(text[:200])\n",
    "\n",
    "chars = sorted(set(text))\n",
    "print(chars)\n",
    "vocab_size = len(chars)\n",
    "print(vocab_size)"
   ]
  },
  {
   "cell_type": "code",
   "execution_count": 12,
   "metadata": {},
   "outputs": [
    {
     "name": "stdout",
     "output_type": "stream",
     "text": [
      "<function <lambda> at 0x1407d71a0>\n",
      "<function <lambda> at 0x1407d6660>\n",
      "[61, 58, 65, 65, 68]\n",
      "hello\n"
     ]
    }
   ],
   "source": [
    "string_to_int = {ch:i for i, ch in enumerate(chars)}\n",
    "int_to_string = {i:ch for i, ch in enumerate(chars)}\n",
    "\n",
    "encode = lambda s : [string_to_int[c] for c in s]\n",
    "decode = lambda l: ''.join([int_to_string[i] for i in l])\n",
    "print(encode)\n",
    "print(decode)\n",
    "\n",
    "\n",
    "encode_hello = encode('hello')\n",
    "decode_hello = decode(encode_hello)\n",
    "\n",
    "print(encode_hello)\n",
    "print(decode_hello)\n"
   ]
  },
  {
   "cell_type": "code",
   "execution_count": 13,
   "metadata": {},
   "outputs": [
    {
     "name": "stdout",
     "output_type": "stream",
     "text": [
      "232328\n",
      "tensor([80,  1,  1, 28, 39, 42, 39, 44, 32, 49,  1, 25, 38, 28,  1, 44, 32, 29,\n",
      "         1, 47, 33, 50, 25, 42, 28,  1, 33, 38,  1, 39, 50,  0,  0,  1,  1, 26,\n",
      "        49,  0,  0,  1,  1, 36, 11,  1, 30, 42, 25, 38, 35,  1, 26, 25, 45, 37,\n",
      "         0,  0,  1,  1, 25, 45, 44, 32, 39, 42,  1, 39, 30,  1, 44, 32, 29,  1,\n",
      "        47, 33, 50, 25, 42, 28,  1, 39, 30,  1, 39, 50,  9,  1, 44, 32, 29,  1,\n",
      "        36, 25, 38, 28,  1, 39, 30,  1, 39, 50])\n"
     ]
    }
   ],
   "source": [
    "import torch\n",
    "\n",
    "with open(\"wizard_of_oz.txt\", 'r', encoding='utf-8') as f:\n",
    "    text = f.read()\n",
    "print(len(text))\n",
    "\n",
    "\n",
    "string_to_int = {ch:i for i, ch in enumerate(chars)}\n",
    "int_to_string = {i:ch for i, ch in enumerate(chars)}\n",
    "\n",
    "#encode = lambda s : [string_to_int[c] for c in s]\n",
    "#decode = lambda l: ''.join([int_to_string[i] for i in l])\n",
    "\n",
    "\n",
    "data = torch.tensor(encode(text), dtype=torch.long)\n",
    "print(data[:100])"
   ]
  },
  {
   "cell_type": "code",
   "execution_count": 22,
   "metadata": {},
   "outputs": [
    {
     "name": "stdout",
     "output_type": "stream",
     "text": [
      "input:\n",
      "tensor([[69, 58, 68, 69, 65, 58,  1, 76],\n",
      "        [58,  1, 60, 62, 71, 65, 11,  0],\n",
      "        [67,  0, 76, 54, 72,  1, 55, 71],\n",
      "        [61, 58, 66, 72, 58, 65, 75, 58]])\n",
      "target:\n",
      "tensor([[58, 68, 69, 65, 58,  1, 76, 62],\n",
      "        [ 1, 60, 62, 71, 65, 11,  0,  0],\n",
      "        [ 0, 76, 54, 72,  1, 55, 71, 58],\n",
      "        [58, 66, 72, 58, 65, 75, 58, 72]])\n"
     ]
    }
   ],
   "source": [
    "n = int(0.8 * len(data))\n",
    "train_data = data[:n]\n",
    "val_data = data[n:]\n",
    "\n",
    "\n",
    "def get_batch(split):\n",
    "    data = train_data if split == 'train' else val_data\n",
    "    ix = torch.randint(len(data) - block_size, (batch_size,))\n",
    "    #print(ix)\n",
    "    X = torch.stack([data[i:i+block_size] for i in ix])\n",
    "    y = torch.stack([data[i+1:i+block_size+1] for i in ix])\n",
    "    X, y = X.to(device), y.to(device) #This will change to gpu if available. Define device first\n",
    "    return X, y\n",
    "\n",
    "X, y = get_batch('train')\n",
    "print('input:')\n",
    "print(X)\n",
    "print('target:')\n",
    "print(y)"
   ]
  },
  {
   "cell_type": "code",
   "execution_count": 23,
   "metadata": {},
   "outputs": [
    {
     "name": "stdout",
     "output_type": "stream",
     "text": [
      "When input is tensor([80]) target is  tensor(76)\n",
      "When input is tensor([80,  1]) target is  tensor(67)\n",
      "When input is tensor([80,  1,  1]) target is  tensor(1)\n",
      "When input is tensor([80,  1,  1, 28]) target is  tensor(60)\n",
      "When input is tensor([80,  1,  1, 28, 39]) target is  tensor(71)\n",
      "When input is tensor([80,  1,  1, 28, 39, 42]) target is  tensor(54)\n",
      "When input is tensor([80,  1,  1, 28, 39, 42, 39]) target is  tensor(75)\n",
      "When input is tensor([80,  1,  1, 28, 39, 42, 39, 44]) target is  tensor(58)\n"
     ]
    }
   ],
   "source": [
    "X = train_data[:block_size]\n",
    "y = val_data[1:block_size+1]\n",
    "\n",
    "for t in range(block_size):\n",
    "    context = X[:t+1]\n",
    "    target = y[t]\n",
    "    print('When input is', context, 'target is ', target)"
   ]
  },
  {
   "cell_type": "code",
   "execution_count": 24,
   "metadata": {},
   "outputs": [],
   "source": [
    "@torch.no_grad()\n",
    "def estimate_loss():\n",
    "    out = {}\n",
    "    model.eval()\n",
    "    for split in ['train', 'val']:\n",
    "        losses = torch.zeros(eval_iters)\n",
    "        for k in range(eval_iters):\n",
    "            X, Y = get_batch(split)\n",
    "            logits, loss = model(X, Y)\n",
    "            losses[k] = loss.item()\n",
    "        out[split] = losses.mean()\n",
    "    model.train()\n",
    "    return out"
   ]
  },
  {
   "cell_type": "code",
   "execution_count": 25,
   "metadata": {},
   "outputs": [
    {
     "name": "stdout",
     "output_type": "stream",
     "text": [
      "\n",
      "n.5haIta,YneW1Yrye!-&0.W2U tb41;EF-3'1rSmVOe:H99naBdk-TiT&L,M\":g﻿cuorU 2OH5GrbIrgr3c-H.F'rQJ)f;2H[Mai,m\n",
      "yyr?&U2cuLF8RXw?K,)9(jCR?xmR?YLFAXC7uA?K9Cuo﻿u\n",
      "V28nrY];aoSyCK9M,Y-RGb:sqy-2wLl[]K,9[ScuQU7.xE_yg,j*9pPYssHlhwtyDJHK?vj3cymyPU2,Ak6BYkb8?\n",
      "VSAlMhCkdNYG23&i﻿WBr,YcgRP.-\"tU(mPv,YF!:0Q&K9NG7wT6z1OfWq1OQ8!Nkr3bR.t4um8tr2Sm[GF6BYet_ljzxq\"mcg;kNY.1tl:N0o kpko.ZN*76FXx[Vx]KPB\n",
      "8yP1ta,)TL&VNZ*Z**F49ya﻿﻿Ki﻿ZpZzO7\" 9RJYOe;﻿﻿Eb?F8.F&QGHu1RTlGopEmP5zjgf5;PQ]KyH'H9M\n",
      "iu]KBfHTLTOeS)cs5HM'AuV)Yd.l:1Etx!e tXlik]m\n"
     ]
    }
   ],
   "source": [
    "class BigramLanguageModel(nn.Module):\n",
    "    def __init__(self, vocab_size):\n",
    "        super().__init__()\n",
    "        self.token_embedding_table = nn.Embedding(vocab_size, vocab_size)\n",
    "        \n",
    "    def forward(self, index, targets=None):\n",
    "        logits = self.token_embedding_table(index)\n",
    "        \n",
    "        if targets is None:\n",
    "            loss = None\n",
    "        else:\n",
    "            B, T, C = logits.shape\n",
    "            logits = logits.view(B*T, C)\n",
    "            targets = targets.view(B*T)\n",
    "            loss = F.cross_entropy(logits, targets)\n",
    "        \n",
    "        return logits, loss\n",
    "    \n",
    "    def generate(self, index, max_new_tokens):\n",
    "        # index is (B, T) array of indices in the current context\n",
    "        for _ in range(max_new_tokens):\n",
    "            # get the predictions\n",
    "            logits, loss = self.forward(index)\n",
    "            # focus only on the last time step\n",
    "            logits = logits[:, -1, :] # becomes (B, C)\n",
    "            # apply softmax to get probabilities\n",
    "            probs = F.softmax(logits, dim=-1) # (B, C)\n",
    "            # sample from the distribution\n",
    "            index_next = torch.multinomial(probs, num_samples=1) # (B, 1)\n",
    "            # append sampled index to the running sequence\n",
    "            index = torch.cat((index, index_next), dim=1) # (B, T+1)\n",
    "        return index\n",
    "\n",
    "model = BigramLanguageModel(vocab_size)\n",
    "m = model.to(device)\n",
    "\n",
    "context = torch.zeros((1,1), dtype=torch.long, device=device)\n",
    "generated_chars = decode(m.generate(context, max_new_tokens=500)[0].tolist())\n",
    "print(generated_chars)"
   ]
  },
  {
   "cell_type": "code",
   "execution_count": 27,
   "metadata": {},
   "outputs": [
    {
     "name": "stdout",
     "output_type": "stream",
     "text": [
      "step: 0, train loss: 3.160, val loss: 3.171\n",
      "step: 250, train loss: 3.101, val loss: 3.143\n",
      "step: 500, train loss: 3.090, val loss: 3.115\n",
      "step: 750, train loss: 3.088, val loss: 3.108\n",
      "step: 1000, train loss: 3.058, val loss: 3.101\n",
      "step: 1250, train loss: 3.029, val loss: 3.043\n",
      "step: 1500, train loss: 3.010, val loss: 3.027\n",
      "step: 1750, train loss: 2.985, val loss: 3.026\n",
      "step: 2000, train loss: 2.974, val loss: 2.996\n",
      "step: 2250, train loss: 2.947, val loss: 2.990\n",
      "step: 2500, train loss: 2.931, val loss: 2.991\n",
      "step: 2750, train loss: 2.888, val loss: 2.954\n",
      "step: 3000, train loss: 2.937, val loss: 2.939\n",
      "step: 3250, train loss: 2.911, val loss: 2.929\n",
      "step: 3500, train loss: 2.871, val loss: 2.914\n",
      "step: 3750, train loss: 2.886, val loss: 2.881\n",
      "step: 4000, train loss: 2.868, val loss: 2.882\n",
      "step: 4250, train loss: 2.837, val loss: 2.873\n",
      "step: 4500, train loss: 2.849, val loss: 2.856\n",
      "step: 4750, train loss: 2.793, val loss: 2.838\n",
      "step: 5000, train loss: 2.810, val loss: 2.815\n",
      "step: 5250, train loss: 2.792, val loss: 2.840\n",
      "step: 5500, train loss: 2.826, val loss: 2.795\n",
      "step: 5750, train loss: 2.777, val loss: 2.825\n",
      "step: 6000, train loss: 2.750, val loss: 2.806\n",
      "step: 6250, train loss: 2.749, val loss: 2.788\n",
      "step: 6500, train loss: 2.767, val loss: 2.756\n",
      "step: 6750, train loss: 2.709, val loss: 2.772\n",
      "step: 7000, train loss: 2.714, val loss: 2.762\n",
      "step: 7250, train loss: 2.714, val loss: 2.761\n",
      "step: 7500, train loss: 2.726, val loss: 2.751\n",
      "step: 7750, train loss: 2.723, val loss: 2.715\n",
      "step: 8000, train loss: 2.703, val loss: 2.712\n",
      "step: 8250, train loss: 2.715, val loss: 2.706\n",
      "step: 8500, train loss: 2.682, val loss: 2.688\n",
      "step: 8750, train loss: 2.676, val loss: 2.733\n",
      "step: 9000, train loss: 2.686, val loss: 2.695\n",
      "step: 9250, train loss: 2.665, val loss: 2.674\n",
      "step: 9500, train loss: 2.632, val loss: 2.679\n",
      "step: 9750, train loss: 2.647, val loss: 2.703\n",
      "2.3372457027435303\n"
     ]
    }
   ],
   "source": [
    "# create a PyTorch optimizer\n",
    "optimizer = torch.optim.AdamW(model.parameters(), lr=learning_rate)\n",
    "\n",
    "for iter in range(max_iters):\n",
    "    if iter % eval_iters == 0:\n",
    "        losses = estimate_loss()\n",
    "        print(f\"step: {iter}, train loss: {losses['train']:.3f}, val loss: {losses['val']:.3f}\")\n",
    "\n",
    "    # sample a batch of data\n",
    "    xb, yb = get_batch('train')\n",
    "\n",
    "    # evaluate the loss\n",
    "    logits, loss = model.forward(xb, yb)\n",
    "    optimizer.zero_grad(set_to_none=True)\n",
    "    loss.backward()\n",
    "    optimizer.step()\n",
    "print(loss.item())"
   ]
  },
  {
   "cell_type": "markdown",
   "metadata": {},
   "source": [
    "***need to familiarize audience with optimizers (AdamW, Adam, SGD, MSE…) no need to jump into the formulas, just what the optimizer does for us and some of the differences/similarities between them***\\n,\n",
    "    \\n,\n",
    "    1. **Mean Squared Error (MSE)**: MSE is a common loss function used in regression problems, where the goal is to predict a continuous output. It measures the average squared difference between the predicted and actual values, and is often used to train neural networks for regression tasks.\\n,\n",
    "    \n",
    "    2. **Gradient Descent (GD):**  is an optimization algorithm used to minimize the loss function of a machine learning model. The loss function measures how well the model is able to predict the target variable based on the input features. The idea of GD is to iteratively adjust the model parameters in the direction of the steepest descent of the loss function\\n,\n",
    "    \n",
    "    3. **Momentum**: Momentum is an extension of SGD that adds a \\\"momentum\\\" term to the parameter updates. This term helps smooth out the updates and allows the optimizer to continue moving in the right direction, even if the gradient changes direction or varies in magnitude. Momentum is particularly useful for training deep neural networks.\\n,\n",
    "    \n",
    "    4. **RMSprop**: RMSprop is an optimization algorithm that uses a moving average of the squared gradient to adapt the learning rate of each parameter. This helps to avoid oscillations in the parameter updates and can improve convergence in some cases.\\n,\n",
    "    \n",
    "    5. **Adam**: Adam is a popular optimization algorithm that combines the ideas of momentum and RMSprop. It uses a moving average of both the gradient and its squared value to adapt the learning rate of each parameter. Adam is often used as a default optimizer for deep learning models.\\n,\n",
    "    \n",
    "    6. **AdamW**: AdamW is a modification of the Adam optimizer that adds weight decay to the parameter updates. This helps to regularize the model and can improve generalization performance. We will be using the AdamW optimizer as it best suits the properties of the model we will train in this video.\\n,\n",
    "    \\n,\n",
    "    find more optimizers and details at torch.optim"
   ]
  },
  {
   "cell_type": "code",
   "execution_count": null,
   "metadata": {},
   "outputs": [],
   "source": []
  },
  {
   "cell_type": "code",
   "execution_count": 82,
   "metadata": {},
   "outputs": [
    {
     "name": "stdout",
     "output_type": "stream",
     "text": [
      "-3\n"
     ]
    }
   ],
   "source": [
    "nums = [1, 2, 3, 4, 5]\n",
    "total = 0\n",
    "\n",
    "for num in nums:\n",
    "    if num % 2 == 0:\n",
    "        total += num\n",
    "    else:\n",
    "        total -= num\n",
    "\n",
    "print(total)"
   ]
  },
  {
   "cell_type": "code",
   "execution_count": null,
   "metadata": {},
   "outputs": [],
   "source": []
  }
 ],
 "metadata": {
  "kernelspec": {
   "display_name": "Python 3",
   "language": "python",
   "name": "python3"
  },
  "language_info": {
   "codemirror_mode": {
    "name": "ipython",
    "version": 3
   },
   "file_extension": ".py",
   "mimetype": "text/x-python",
   "name": "python",
   "nbconvert_exporter": "python",
   "pygments_lexer": "ipython3",
   "version": "3.11.6"
  }
 },
 "nbformat": 4,
 "nbformat_minor": 2
}
